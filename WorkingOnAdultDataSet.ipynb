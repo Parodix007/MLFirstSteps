{
 "cells": [
  {
   "cell_type": "code",
   "execution_count": 23,
   "id": "clean-martin",
   "metadata": {},
   "outputs": [],
   "source": [
    "import pandas as pd\n",
    "import numpy as np\n",
    "import matplotlib as plt\n",
    "import csv\n",
    "\n",
    "# Reading data from a csv file\n",
    "class ReadDataSet:\n",
    "        def __init__(self, file_name, batch=3):\n",
    "            self.__dataset = file_name\n",
    "            self.__batch = batch\n",
    "        def get_dataset_by_batch(self):\n",
    "            \"\"\"\n",
    "                Algorithm of reading data from a file by batchs, this is also handy with SGD (stochastic gradien descent) ML algorithm\n",
    "            \"\"\"\n",
    "            with open(self.__dataset) as dataset_file:\n",
    "                rows = []\n",
    "                for n,i in enumerate(csv.reader(dataset_file)):\n",
    "                    if n > 0 and n % self.__batch == 0:\n",
    "                        yield(np.array(rows))\n",
    "                        rows = []\n",
    "                    rows.append(i)\n",
    "        def get_dataframe(self):\n",
    "            \"\"\"\n",
    "                Load all data at once with pandas dataframe\n",
    "            \"\"\"\n",
    "            dataset_frame = pd.read_csv(self.__dataset, sep=\",\", header=None, names=[\"age\", \"work\", \"some_number\", \"social_status\", \"some_numberv2\",\"if_merried\", \"some_status\",\"if_family\",\"color\",\"sex\",\"some_numberv3\",\"some_numberv4\",\"some_numberv5\", \"citizen\",\"income\"])\n",
    "            return dataset_frame\n",
    "dataset = ReadDataSet(\"Datasets/adult.data.csv\", 5)\n"
   ]
  },
  {
   "cell_type": "code",
   "execution_count": null,
   "id": "coordinated-nelson",
   "metadata": {},
   "outputs": [],
   "source": [
    "# Get by batchs\n",
    "for batch_set in dataset.get_dataset_by_batch():\n",
    "    print(batch_set)\n",
    "    break"
   ]
  },
  {
   "cell_type": "code",
   "execution_count": 34,
   "id": "hispanic-abraham",
   "metadata": {},
   "outputs": [
    {
     "data": {
      "text/html": [
       "<div>\n",
       "<style scoped>\n",
       "    .dataframe tbody tr th:only-of-type {\n",
       "        vertical-align: middle;\n",
       "    }\n",
       "\n",
       "    .dataframe tbody tr th {\n",
       "        vertical-align: top;\n",
       "    }\n",
       "\n",
       "    .dataframe thead th {\n",
       "        text-align: right;\n",
       "    }\n",
       "</style>\n",
       "<table border=\"1\" class=\"dataframe\">\n",
       "  <thead>\n",
       "    <tr style=\"text-align: right;\">\n",
       "      <th></th>\n",
       "      <th>age</th>\n",
       "      <th>income</th>\n",
       "    </tr>\n",
       "  </thead>\n",
       "  <tbody>\n",
       "    <tr>\n",
       "      <th>0</th>\n",
       "      <td>39</td>\n",
       "      <td>&lt;=50K</td>\n",
       "    </tr>\n",
       "    <tr>\n",
       "      <th>1</th>\n",
       "      <td>50</td>\n",
       "      <td>&lt;=50K</td>\n",
       "    </tr>\n",
       "    <tr>\n",
       "      <th>2</th>\n",
       "      <td>38</td>\n",
       "      <td>&lt;=50K</td>\n",
       "    </tr>\n",
       "  </tbody>\n",
       "</table>\n",
       "</div>"
      ],
      "text/plain": [
       "   age  income\n",
       "0   39   <=50K\n",
       "1   50   <=50K\n",
       "2   38   <=50K"
      ]
     },
     "execution_count": 34,
     "metadata": {},
     "output_type": "execute_result"
    }
   ],
   "source": [
    "# Get dataframe\n",
    "dataset_frame = dataset.get_dataframe()\n",
    "age_income = dataset_frame[[\"age\", \"income\"]]\n",
    "age_income.head(3)"
   ]
  },
  {
   "cell_type": "code",
   "execution_count": null,
   "id": "threatened-protein",
   "metadata": {},
   "outputs": [],
   "source": []
  }
 ],
 "metadata": {
  "kernelspec": {
   "display_name": "Python 3",
   "language": "python",
   "name": "python3"
  },
  "language_info": {
   "codemirror_mode": {
    "name": "ipython",
    "version": 3
   },
   "file_extension": ".py",
   "mimetype": "text/x-python",
   "name": "python",
   "nbconvert_exporter": "python",
   "pygments_lexer": "ipython3",
   "version": "3.8.5"
  }
 },
 "nbformat": 4,
 "nbformat_minor": 5
}
